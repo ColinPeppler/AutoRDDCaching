{
 "cells": [
  {
   "cell_type": "markdown",
   "id": "roman-utilization",
   "metadata": {},
   "source": [
    "The purpose of this notebook is to implement the K-means clustering algorithm on the provided airplanes dataset. "
   ]
  },
  {
   "cell_type": "code",
   "execution_count": 45,
   "id": "addressed-supply",
   "metadata": {},
   "outputs": [],
   "source": [
    "from pyspark.sql import SparkSession\n",
    "\n",
    "spark = SparkSession.builder.\\\n",
    "        appName(\"pyspark-notebook\").\\\n",
    "        master(\"spark://spark-master:7077\").\\\n",
    "        config(\"spark.executor.memory\", \"512m\").\\\n",
    "        getOrCreate()\n",
    "\n",
    "sc = spark.sparkContext"
   ]
  },
  {
   "cell_type": "code",
   "execution_count": 46,
   "id": "spoken-maldives",
   "metadata": {},
   "outputs": [],
   "source": [
    "SEP = \",\"\n",
    "\n",
    "def remove_header(rdd):\n",
    "    header = rdd.take(1)[0]\n",
    "    return rdd.filter(lambda x: x != header)"
   ]
  },
  {
   "cell_type": "code",
   "execution_count": 47,
   "id": "amateur-salon",
   "metadata": {},
   "outputs": [],
   "source": [
    "# Get a table containing the latitude and longitude coordinates of each airport\n",
    "airports_data = sc.textFile(\"/data/airports_data.csv\")\n",
    "airports_data = remove_header(airports_data)\n",
    "lat_long = airports_data.map(lambda x: (x.split(SEP)[4], x.split(SEP)[3])) # Remember that latitudes and longitudes are swapped\n",
    "lat_long = lat_long.map(lambda x: (float(x[0]), float(x[1])))"
   ]
  },
  {
   "cell_type": "code",
   "execution_count": 48,
   "id": "spectacular-defendant",
   "metadata": {},
   "outputs": [],
   "source": [
    "import math\n",
    "\n",
    "\"\"\"\n",
    "Using Euclidean distance for simplicity\n",
    "@param coords1: (lat1, long1)\n",
    "@param coords2: (lat2, long2)\n",
    "@return: Euclidean distance between coords1 and coords2\n",
    "\"\"\"\n",
    "def distance(coords1, coords2):\n",
    "    lat1 = coords1[0]\n",
    "    long1 = coords1[1]\n",
    "    lat2 = coords2[0]\n",
    "    long2 = coords2[1]\n",
    "    return math.sqrt((lat1 - lat2) ** 2 + (long1 - long2) ** 2)"
   ]
  },
  {
   "cell_type": "code",
   "execution_count": 112,
   "id": "operating-victor",
   "metadata": {},
   "outputs": [],
   "source": [
    "import random\n",
    "random.seed(10)\n",
    "\n",
    "def random_clusterid(clusterids):\n",
    "    return clusterids[random.randrange(len(clusterids))]\n",
    "\n",
    "def get_mean_of_cluster(rdd, clusterid):\n",
    "    \"\"\"\n",
    "    Gets the mean (lat, long) position of this cluster\n",
    "    \"\"\"\n",
    "    in_cluster_only_w_id = rdd.filter(lambda x: x[2] == clusterid) # still has clusterid field\n",
    "    in_cluster_only = in_cluster_only_w_id.map(lambda x: (x[0], x[1])) # does not have clusterid field\n",
    "    # n_in_cluster is an int\n",
    "    n_in_cluster = in_cluster_only.count()\n",
    "    # sum_in_cluster is a single (lat, long tuple)\n",
    "    sum_in_cluster = in_cluster_only.reduce(lambda a, b: ((a[0] + b[0]), a[1] + b[1]))\n",
    "    return (sum_in_cluster[0] / n_in_cluster, sum_in_cluster[1] / n_in_cluster)\n",
    "\n",
    "def get_cluster_means(rdd, clusterids):\n",
    "    \"\"\"\n",
    "    Gets the means positions of all clusters\n",
    "    @return: a list [(mean_lat1, mean_long1), (mean_lat2, mean_long2), ...]\n",
    "    \"\"\"\n",
    "    return [get_mean_of_cluster(rdd, clusterid) for clusterid in clusterids]\n",
    "\n",
    "def get_nearest_clusterid(coords, cluster_means):\n",
    "    \"\"\"\n",
    "    Gets the clusterid with the nearest mean to a point\n",
    "    @param coords: (lat, long) coordinates\n",
    "    @param cluster_means: list of mean positions of all clusters, returned by get_cluster_means\n",
    "    \"\"\"\n",
    "    cluster_mean_distances = [distance(coords, cluster_mean) for cluster_mean in cluster_means]\n",
    "    return cluster_mean_distances.index(min(cluster_mean_distances))\n",
    "\n",
    "# Implementation of k-means clustering\n",
    "k = 4\n",
    "n_iters = 10\n",
    "clusterids = range(k)\n",
    "\n",
    "# has tuples of the form (lat, long, clusterid), where clusterid is the id of the cluster each tuple is in\n",
    "lat_long_clusterid = lat_long.map(lambda x: (x[0], x[1], random_clusterid(clusterids))) # random initialization\n",
    "for i in range(n_iters):\n",
    "    means = get_cluster_means(lat_long_clusterid, clusterids)\n",
    "    lat_long_clusterid = lat_long_clusterid.map(lambda x: (x[0], x[1], get_nearest_clusterid((x[0], x[1]), means)))"
   ]
  },
  {
   "cell_type": "code",
   "execution_count": 113,
   "id": "massive-commander",
   "metadata": {},
   "outputs": [],
   "source": [
    "# Run the below line once to install matplotlib, if it's not installed already\n",
    "# !pip install --trusted-host=pypi.python.org --trusted-host=pypi.org --trusted-host=files.pythonhosted.org matplotlib"
   ]
  },
  {
   "cell_type": "code",
   "execution_count": 114,
   "id": "dirty-singing",
   "metadata": {},
   "outputs": [
    {
     "data": {
      "image/png": "[encoded data removed]",
      "text/plain": [
       "<Figure size 432x288 with 1 Axes>"
      ]
     },
     "metadata": {
      "needs_background": "light"
     },
     "output_type": "display_data"
    }
   ],
   "source": [
    "# Plot results\n",
    "import matplotlib.pyplot as plt\n",
    "\n",
    "# plot means\n",
    "for clusterid in clusterids:\n",
    "    this_mean = get_mean_of_cluster(lat_long_clusterid, clusterid)\n",
    "    plt.scatter([this_mean[1]], [this_mean[0]], c=\"black\", marker=\"x\", zorder=1)\n",
    "    \n",
    "# colors\n",
    "colors = [\"b\", \"g\", \"r\", \"c\", \"m\", \"y\"]\n",
    "if k > len(colors):\n",
    "    raise ValueError(\"not enough defined colors exist to color all k clusters\")\n",
    "\n",
    "lats = lat_long_clusterid.map(lambda x: x[0]).collect()\n",
    "longs = lat_long_clusterid.map(lambda x: x[1]).collect()\n",
    "cluster_colors = lat_long_clusterid.map(lambda x: colors[x[2]]).collect()\n",
    "plt.scatter(longs, lats, c=cluster_colors, zorder=0)\n",
    "plt.xlabel(\"longitude (degrees)\")\n",
    "plt.ylabel(\"latitude (degrees)\")\n",
    "plt.show()"
   ]
  },
  {
   "cell_type": "code",
   "execution_count": null,
   "id": "measured-porter",
   "metadata": {},
   "outputs": [],
   "source": []
  }
 ],
 "metadata": {
  "kernelspec": {
   "display_name": "Python 3",
   "language": "python",
   "name": "python3"
  },
  "language_info": {
   "codemirror_mode": {
    "name": "ipython",
    "version": 3
   },
   "file_extension": ".py",
   "mimetype": "text/x-python",
   "name": "python",
   "nbconvert_exporter": "python",
   "pygments_lexer": "ipython3",
   "version": "3.7.3"
  }
 },
 "nbformat": 4,
 "nbformat_minor": 5
}
