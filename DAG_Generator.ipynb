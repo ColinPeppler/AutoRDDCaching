{
 "cells": [
  {
   "cell_type": "markdown",
   "id": "sapphire-software",
   "metadata": {},
   "source": [
    "The purpose of this file is to construct a DAG (directed acyclic graph) from a user-written Spark program."
   ]
  },
  {
   "cell_type": "code",
   "execution_count": 1,
   "id": "regional-atlas",
   "metadata": {},
   "outputs": [],
   "source": [
    "from pyspark.sql import SparkSession\n",
    "\n",
    "spark = SparkSession.builder.\\\n",
    "        appName(\"pyspark-notebook\").\\\n",
    "        master(\"spark://spark-master:7077\").\\\n",
    "        config(\"spark.executor.memory\", \"512m\").\\\n",
    "        getOrCreate()\n",
    "\n",
    "sc = spark.sparkContext"
   ]
  },
  {
   "cell_type": "code",
   "execution_count": 140,
   "id": "english-kernel",
   "metadata": {},
   "outputs": [],
   "source": [
    "# Insert user-written code in this cell\n",
    "\n",
    "SEP = \",\"\n",
    "\n",
    "def remove_header(rdd):\n",
    "    header = rdd.take(1)[0]\n",
    "    return rdd.filter(lambda x: x != header)\n",
    "\n",
    "# Get a table containing the latitude and longitude coordinates of each airport\n",
    "airports_data = sc.textFile(\"/data/airports_data.csv\")\n",
    "airports_data = remove_header(airports_data)\n",
    "# Remember that latitudes and longitudes are swapped\n",
    "lat_long_timezone = airports_data.map(lambda x: (float(x.split(SEP)[4]), float(x.split(SEP)[3]), x.split(SEP)[5]))\n",
    "\n",
    "lat_long_timezone_doubled = lat_long_timezone.map(lambda x: (x[0] * 2, x[1] * 2, x[2]))\n",
    "timezone_lat_long_doubled = lat_long_timezone_doubled.map(lambda x: (x[2], (x[0], x[1])))\n",
    "total_by_timezone = timezone_lat_long_doubled.reduceByKey(lambda a, b: (a[0] + b[0], a[1] + b[1]))"
   ]
  },
  {
   "cell_type": "code",
   "execution_count": 141,
   "id": "marine-george",
   "metadata": {},
   "outputs": [],
   "source": [
    "# Use this cell to assign the last RDD in the user-written program to the variable final_rdd for the DAG generator to use\n",
    "final_rdd = total_by_timezone"
   ]
  },
  {
   "cell_type": "code",
   "execution_count": 154,
   "id": "dental-encyclopedia",
   "metadata": {},
   "outputs": [
    {
     "data": {
      "text/plain": [
       "8"
      ]
     },
     "execution_count": 154,
     "metadata": {},
     "output_type": "execute_result"
    }
   ],
   "source": [
    "# Generate a DAG of the user program\n",
    "previous = final_rdd._jrdd.dependencies.container\n",
    "previous.count()"
   ]
  },
  {
   "cell_type": "code",
   "execution_count": 152,
   "id": "ethical-therapy",
   "metadata": {},
   "outputs": [
    {
     "data": {
      "text/plain": [
       "[('Asia/Sakhalin', (93.7773971557618, 285.436004638672)),\n",
       " ('Europe/Moscow', (4763.7318579295625, 3758.1768314548453)),\n",
       " ('Asia/Yekaterinburg', (2617.237235239701, 2911.494415856768)),\n",
       " ('Europe/Samara', (530.5711975097352, 497.3150024414366)),\n",
       " ('Asia/Anadyr', (129.4698028564454, 355.481994628906)),\n",
       " ('Asia/Novosibirsk', (110.025199890136, 165.301406860352)),\n",
       " ('Asia/Magadan', (119.8219985961914, 301.440002441406)),\n",
       " ('Asia/Chita', (104.052598, 226.612)),\n",
       " ('Asia/Irkutsk', (550.8784103393543, 1043.640014648428)),\n",
       " ('Asia/Krasnoyarsk', (906.6271972656834, 1395.7023925781223)),\n",
       " ('Asia/Omsk', (109.9339981079102, 146.6210021972656)),\n",
       " ('Europe/Volgograd', (200.6949996948242, 180.7844009399414)),\n",
       " ('Asia/Yakutsk', (596.7353897094844, 1216.332000731822)),\n",
       " ('Asia/Vladivostok', (284.67199707031295, 808.5400085449239)),\n",
       " ('Asia/Kamchatka', (106.3358001708984, 316.907989501954)),\n",
       " ('Europe/Kaliningrad', (109.7799987792968, 41.1851997375488)),\n",
       " ('Asia/Novokuznetsk', (218.1630020141602, 345.9687957763672))]"
      ]
     },
     "execution_count": 152,
     "metadata": {},
     "output_type": "execute_result"
    }
   ],
   "source": [
    "total_by_timezone.collect()"
   ]
  },
  {
   "cell_type": "code",
   "execution_count": null,
   "id": "imported-confidence",
   "metadata": {},
   "outputs": [],
   "source": []
  }
 ],
 "metadata": {
  "kernelspec": {
   "display_name": "Python 3",
   "language": "python",
   "name": "python3"
  },
  "language_info": {
   "codemirror_mode": {
    "name": "ipython",
    "version": 3
   },
   "file_extension": ".py",
   "mimetype": "text/x-python",
   "name": "python",
   "nbconvert_exporter": "python",
   "pygments_lexer": "ipython3",
   "version": "3.7.3"
  }
 },
 "nbformat": 4,
 "nbformat_minor": 5
}
