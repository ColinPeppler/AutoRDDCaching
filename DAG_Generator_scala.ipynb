{
 "cells": [
  {
   "cell_type": "code",
   "execution_count": null,
   "id": "institutional-cookbook",
   "metadata": {},
   "outputs": [
    {
     "name": "stderr",
     "output_type": "stream",
     "text": [
      "cmd0.sc:1: object spark is not a member of package org\n",
      "import org.spark.apache.sql.SparkSession\n",
      "           ^cmd0.sc:3: not found: value SparkSession\n",
      "val spark = SparkSession.builder.\\\n",
      "            ^cmd0.sc:4: not found: value appName\n",
      "        val res0_2 = appName(\"pyspark-notebook\").\\\n",
      "                     ^cmd0.sc:5: not found: value master\n",
      "        val res0_3 = master(\"spark://spark-master:7077\").\\\n",
      "                     ^cmd0.sc:6: not found: value config\n",
      "        val res0_4 = config(\"spark.executor.memory\", \"512m\").\\\n",
      "                     ^cmd0.sc:7: not found: value getOrCreate\n",
      "        val res0_5 = getOrCreate()\n",
      "                     ^cmd0.sc:9: not found: value sc\n",
      "val res0_6 = sc = spark.sparkContext\n",
      "             ^Compilation Failed"
     ]
    },
    {
     "ename": "",
     "evalue": "",
     "output_type": "error",
     "traceback": [
      "Compilation Failed"
     ]
    }
   ],
   "source": [
    "val spark = SparkSession.builder.\\\n",
    "        appName(\"pyspark-notebook\").\\\n",
    "        master(\"spark://spark-master:7077\").\\\n",
    "        config(\"spark.executor.memory\", \"512m\").\\\n",
    "        getOrCreate()\n",
    "\n",
    "sc = spark.sparkContext"
   ]
  },
  {
   "cell_type": "code",
   "execution_count": null,
   "id": "approved-preview",
   "metadata": {},
   "outputs": [
    {
     "name": "stderr",
     "output_type": "stream",
     "text": [
      "cmd0.sc:1: object apache is not a member of package org\n",
      "import org.apache.spark.SparkContext\n",
      "           ^Compilation Failed"
     ]
    },
    {
     "ename": "",
     "evalue": "",
     "output_type": "error",
     "traceback": [
      "Compilation Failed"
     ]
    }
   ],
   "source": [
    "import org.apache.spark.SparkContext\n",
    "\n",
    "// val sc = new SparkContext(new SparkConf().setAppName(\"pyspark-notebook\")\n",
    "//                           .setMaster(\"spark://spark-master:7077\")\n",
    "//                           .setConfig(\"spark.executor.memory\", \"512m\"))"
   ]
  },
  {
   "cell_type": "code",
   "execution_count": null,
   "id": "interstate-amount",
   "metadata": {},
   "outputs": [],
   "source": []
  }
 ],
 "metadata": {
  "kernelspec": {
   "display_name": "Scala 2.12.10",
   "language": "scala",
   "name": "scala"
  },
  "language_info": {
   "codemirror_mode": "text/x-scala",
   "file_extension": ".sc",
   "mimetype": "text/x-scala",
   "name": "scala",
   "nbconvert_exporter": "script",
   "version": "2.12.10"
  }
 },
 "nbformat": 4,
 "nbformat_minor": 5
}
